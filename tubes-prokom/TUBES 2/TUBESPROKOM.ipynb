{
 "cells": [
  {
   "cell_type": "markdown",
   "metadata": {},
   "source": [
    "# # DATA OF OIL PRODUCTION IN PERMIAN"
   ]
  },
  {
   "cell_type": "code",
   "execution_count": 4,
   "metadata": {},
   "outputs": [],
   "source": [
    "import pandas as pd\n",
    "import matplotlib\n",
    "import numpy as np"
   ]
  },
  {
   "cell_type": "code",
   "execution_count": 5,
   "metadata": {},
   "outputs": [
    {
     "data": {
      "text/html": [
       "<div>\n",
       "<style scoped>\n",
       "    .dataframe tbody tr th:only-of-type {\n",
       "        vertical-align: middle;\n",
       "    }\n",
       "\n",
       "    .dataframe tbody tr th {\n",
       "        vertical-align: top;\n",
       "    }\n",
       "\n",
       "    .dataframe thead th {\n",
       "        text-align: right;\n",
       "    }\n",
       "</style>\n",
       "<table border=\"1\" class=\"dataframe\">\n",
       "  <thead>\n",
       "    <tr style=\"text-align: right;\">\n",
       "      <th></th>\n",
       "      <th>Month</th>\n",
       "      <th>Rig count</th>\n",
       "      <th>Production per rig</th>\n",
       "      <th>Legacy production change</th>\n",
       "      <th>Total production</th>\n",
       "      <th>Kategori</th>\n",
       "    </tr>\n",
       "  </thead>\n",
       "  <tbody>\n",
       "    <tr>\n",
       "      <th>0</th>\n",
       "      <td>7-Jan</td>\n",
       "      <td>248.0</td>\n",
       "      <td>56</td>\n",
       "      <td>-10656.10</td>\n",
       "      <td>842782.16</td>\n",
       "      <td>LOW</td>\n",
       "    </tr>\n",
       "    <tr>\n",
       "      <th>1</th>\n",
       "      <td>7-Feb</td>\n",
       "      <td>253.0</td>\n",
       "      <td>56</td>\n",
       "      <td>-10909.10</td>\n",
       "      <td>857277.11</td>\n",
       "      <td>LOW</td>\n",
       "    </tr>\n",
       "    <tr>\n",
       "      <th>2</th>\n",
       "      <td>7-Mar</td>\n",
       "      <td>242.0</td>\n",
       "      <td>56</td>\n",
       "      <td>-11136.84</td>\n",
       "      <td>851889.52</td>\n",
       "      <td>LOW</td>\n",
       "    </tr>\n",
       "    <tr>\n",
       "      <th>3</th>\n",
       "      <td>7-Apr</td>\n",
       "      <td>243.0</td>\n",
       "      <td>56</td>\n",
       "      <td>-11392.43</td>\n",
       "      <td>853185.30</td>\n",
       "      <td>LOW</td>\n",
       "    </tr>\n",
       "    <tr>\n",
       "      <th>4</th>\n",
       "      <td>7-May</td>\n",
       "      <td>243.0</td>\n",
       "      <td>57</td>\n",
       "      <td>-11647.10</td>\n",
       "      <td>843555.68</td>\n",
       "      <td>LOW</td>\n",
       "    </tr>\n",
       "    <tr>\n",
       "      <th>5</th>\n",
       "      <td>7-Jun</td>\n",
       "      <td>244.0</td>\n",
       "      <td>57</td>\n",
       "      <td>-11920.42</td>\n",
       "      <td>834046.90</td>\n",
       "      <td>LOW</td>\n",
       "    </tr>\n",
       "    <tr>\n",
       "      <th>6</th>\n",
       "      <td>7-Jul</td>\n",
       "      <td>244.0</td>\n",
       "      <td>57</td>\n",
       "      <td>-12194.42</td>\n",
       "      <td>842654.32</td>\n",
       "      <td>LOW</td>\n",
       "    </tr>\n",
       "    <tr>\n",
       "      <th>7</th>\n",
       "      <td>7-Aug</td>\n",
       "      <td>248.0</td>\n",
       "      <td>57</td>\n",
       "      <td>-12484.52</td>\n",
       "      <td>843724.10</td>\n",
       "      <td>LOW</td>\n",
       "    </tr>\n",
       "    <tr>\n",
       "      <th>8</th>\n",
       "      <td>7-Sep</td>\n",
       "      <td>247.0</td>\n",
       "      <td>57</td>\n",
       "      <td>-12778.14</td>\n",
       "      <td>845308.23</td>\n",
       "      <td>LOW</td>\n",
       "    </tr>\n",
       "    <tr>\n",
       "      <th>9</th>\n",
       "      <td>7-Oct</td>\n",
       "      <td>242.0</td>\n",
       "      <td>57</td>\n",
       "      <td>-13060.48</td>\n",
       "      <td>850877.61</td>\n",
       "      <td>LOW</td>\n",
       "    </tr>\n",
       "    <tr>\n",
       "      <th>10</th>\n",
       "      <td>7-Nov</td>\n",
       "      <td>240.0</td>\n",
       "      <td>58</td>\n",
       "      <td>-13343.13</td>\n",
       "      <td>857462.50</td>\n",
       "      <td>LOW</td>\n",
       "    </tr>\n",
       "    <tr>\n",
       "      <th>11</th>\n",
       "      <td>7-Dec</td>\n",
       "      <td>253.0</td>\n",
       "      <td>59</td>\n",
       "      <td>-13599.46</td>\n",
       "      <td>862304.90</td>\n",
       "      <td>LOW</td>\n",
       "    </tr>\n",
       "    <tr>\n",
       "      <th>12</th>\n",
       "      <td>8-Jan</td>\n",
       "      <td>249.0</td>\n",
       "      <td>61</td>\n",
       "      <td>-13834.93</td>\n",
       "      <td>862372.26</td>\n",
       "      <td>LOW</td>\n",
       "    </tr>\n",
       "    <tr>\n",
       "      <th>13</th>\n",
       "      <td>8-Feb</td>\n",
       "      <td>250.0</td>\n",
       "      <td>63</td>\n",
       "      <td>-14023.24</td>\n",
       "      <td>870697.00</td>\n",
       "      <td>LOW</td>\n",
       "    </tr>\n",
       "    <tr>\n",
       "      <th>14</th>\n",
       "      <td>8-Mar</td>\n",
       "      <td>257.0</td>\n",
       "      <td>65</td>\n",
       "      <td>-14134.88</td>\n",
       "      <td>871941.23</td>\n",
       "      <td>LOW</td>\n",
       "    </tr>\n",
       "    <tr>\n",
       "      <th>15</th>\n",
       "      <td>8-Apr</td>\n",
       "      <td>259.0</td>\n",
       "      <td>66</td>\n",
       "      <td>-14201.68</td>\n",
       "      <td>867323.77</td>\n",
       "      <td>LOW</td>\n",
       "    </tr>\n",
       "    <tr>\n",
       "      <th>16</th>\n",
       "      <td>8-May</td>\n",
       "      <td>261.0</td>\n",
       "      <td>68</td>\n",
       "      <td>-14589.65</td>\n",
       "      <td>864677.58</td>\n",
       "      <td>LOW</td>\n",
       "    </tr>\n",
       "    <tr>\n",
       "      <th>17</th>\n",
       "      <td>8-Jun</td>\n",
       "      <td>285.0</td>\n",
       "      <td>69</td>\n",
       "      <td>-15153.50</td>\n",
       "      <td>857004.60</td>\n",
       "      <td>LOW</td>\n",
       "    </tr>\n",
       "    <tr>\n",
       "      <th>18</th>\n",
       "      <td>8-Jul</td>\n",
       "      <td>287.0</td>\n",
       "      <td>69</td>\n",
       "      <td>-15810.60</td>\n",
       "      <td>873954.81</td>\n",
       "      <td>LOW</td>\n",
       "    </tr>\n",
       "    <tr>\n",
       "      <th>19</th>\n",
       "      <td>8-Aug</td>\n",
       "      <td>285.0</td>\n",
       "      <td>70</td>\n",
       "      <td>-16499.40</td>\n",
       "      <td>875546.94</td>\n",
       "      <td>LOW</td>\n",
       "    </tr>\n",
       "    <tr>\n",
       "      <th>20</th>\n",
       "      <td>8-Sep</td>\n",
       "      <td>285.0</td>\n",
       "      <td>72</td>\n",
       "      <td>-17095.84</td>\n",
       "      <td>853345.20</td>\n",
       "      <td>LOW</td>\n",
       "    </tr>\n",
       "    <tr>\n",
       "      <th>21</th>\n",
       "      <td>8-Oct</td>\n",
       "      <td>276.0</td>\n",
       "      <td>75</td>\n",
       "      <td>-17534.19</td>\n",
       "      <td>890843.61</td>\n",
       "      <td>LOW</td>\n",
       "    </tr>\n",
       "    <tr>\n",
       "      <th>22</th>\n",
       "      <td>8-Nov</td>\n",
       "      <td>253.0</td>\n",
       "      <td>78</td>\n",
       "      <td>-17783.08</td>\n",
       "      <td>904142.63</td>\n",
       "      <td>LOW</td>\n",
       "    </tr>\n",
       "    <tr>\n",
       "      <th>23</th>\n",
       "      <td>8-Dec</td>\n",
       "      <td>234.0</td>\n",
       "      <td>83</td>\n",
       "      <td>-17858.11</td>\n",
       "      <td>902484.13</td>\n",
       "      <td>LOW</td>\n",
       "    </tr>\n",
       "    <tr>\n",
       "      <th>24</th>\n",
       "      <td>9-Jan</td>\n",
       "      <td>194.0</td>\n",
       "      <td>89</td>\n",
       "      <td>-17802.45</td>\n",
       "      <td>902237.00</td>\n",
       "      <td>LOW</td>\n",
       "    </tr>\n",
       "    <tr>\n",
       "      <th>25</th>\n",
       "      <td>9-Feb</td>\n",
       "      <td>162.0</td>\n",
       "      <td>95</td>\n",
       "      <td>-17637.11</td>\n",
       "      <td>904665.71</td>\n",
       "      <td>LOW</td>\n",
       "    </tr>\n",
       "    <tr>\n",
       "      <th>26</th>\n",
       "      <td>9-Mar</td>\n",
       "      <td>129.0</td>\n",
       "      <td>101</td>\n",
       "      <td>-17472.20</td>\n",
       "      <td>900338.71</td>\n",
       "      <td>LOW</td>\n",
       "    </tr>\n",
       "    <tr>\n",
       "      <th>27</th>\n",
       "      <td>9-Apr</td>\n",
       "      <td>93.0</td>\n",
       "      <td>108</td>\n",
       "      <td>-17328.56</td>\n",
       "      <td>885912.40</td>\n",
       "      <td>LOW</td>\n",
       "    </tr>\n",
       "    <tr>\n",
       "      <th>28</th>\n",
       "      <td>9-May</td>\n",
       "      <td>92.0</td>\n",
       "      <td>115</td>\n",
       "      <td>-17307.74</td>\n",
       "      <td>876697.68</td>\n",
       "      <td>LOW</td>\n",
       "    </tr>\n",
       "    <tr>\n",
       "      <th>29</th>\n",
       "      <td>9-Jun</td>\n",
       "      <td>99.0</td>\n",
       "      <td>121</td>\n",
       "      <td>-17439.07</td>\n",
       "      <td>864486.87</td>\n",
       "      <td>LOW</td>\n",
       "    </tr>\n",
       "    <tr>\n",
       "      <th>...</th>\n",
       "      <td>...</td>\n",
       "      <td>...</td>\n",
       "      <td>...</td>\n",
       "      <td>...</td>\n",
       "      <td>...</td>\n",
       "      <td>...</td>\n",
       "    </tr>\n",
       "    <tr>\n",
       "      <th>114</th>\n",
       "      <td>16-Jul</td>\n",
       "      <td>162.0</td>\n",
       "      <td>758</td>\n",
       "      <td>-103273.13</td>\n",
       "      <td>2031036.03</td>\n",
       "      <td>HIGH</td>\n",
       "    </tr>\n",
       "    <tr>\n",
       "      <th>115</th>\n",
       "      <td>16-Aug</td>\n",
       "      <td>187.0</td>\n",
       "      <td>759</td>\n",
       "      <td>-104517.08</td>\n",
       "      <td>2051892.54</td>\n",
       "      <td>HIGH</td>\n",
       "    </tr>\n",
       "    <tr>\n",
       "      <th>116</th>\n",
       "      <td>16-Sep</td>\n",
       "      <td>199.0</td>\n",
       "      <td>745</td>\n",
       "      <td>-106320.53</td>\n",
       "      <td>2041419.83</td>\n",
       "      <td>HIGH</td>\n",
       "    </tr>\n",
       "    <tr>\n",
       "      <th>117</th>\n",
       "      <td>16-Oct</td>\n",
       "      <td>206.0</td>\n",
       "      <td>714</td>\n",
       "      <td>-108461.48</td>\n",
       "      <td>2088743.51</td>\n",
       "      <td>HIGH</td>\n",
       "    </tr>\n",
       "    <tr>\n",
       "      <th>118</th>\n",
       "      <td>16-Nov</td>\n",
       "      <td>222.0</td>\n",
       "      <td>673</td>\n",
       "      <td>-111186.11</td>\n",
       "      <td>2110805.36</td>\n",
       "      <td>HIGH</td>\n",
       "    </tr>\n",
       "    <tr>\n",
       "      <th>119</th>\n",
       "      <td>16-Dec</td>\n",
       "      <td>252.0</td>\n",
       "      <td>636</td>\n",
       "      <td>-114289.87</td>\n",
       "      <td>2117689.87</td>\n",
       "      <td>HIGH</td>\n",
       "    </tr>\n",
       "    <tr>\n",
       "      <th>120</th>\n",
       "      <td>17-Jan</td>\n",
       "      <td>276.0</td>\n",
       "      <td>608</td>\n",
       "      <td>-117936.32</td>\n",
       "      <td>2145960.83</td>\n",
       "      <td>HIGH</td>\n",
       "    </tr>\n",
       "    <tr>\n",
       "      <th>121</th>\n",
       "      <td>17-Feb</td>\n",
       "      <td>300.0</td>\n",
       "      <td>586</td>\n",
       "      <td>-121980.41</td>\n",
       "      <td>2253965.71</td>\n",
       "      <td>HIGH</td>\n",
       "    </tr>\n",
       "    <tr>\n",
       "      <th>122</th>\n",
       "      <td>17-Mar</td>\n",
       "      <td>310.0</td>\n",
       "      <td>567</td>\n",
       "      <td>-125716.42</td>\n",
       "      <td>2268190.35</td>\n",
       "      <td>HIGH</td>\n",
       "    </tr>\n",
       "    <tr>\n",
       "      <th>123</th>\n",
       "      <td>17-Apr</td>\n",
       "      <td>337.0</td>\n",
       "      <td>543</td>\n",
       "      <td>-130212.35</td>\n",
       "      <td>2292793.50</td>\n",
       "      <td>HIGH</td>\n",
       "    </tr>\n",
       "    <tr>\n",
       "      <th>124</th>\n",
       "      <td>17-May</td>\n",
       "      <td>356.0</td>\n",
       "      <td>527</td>\n",
       "      <td>-134946.55</td>\n",
       "      <td>2387492.83</td>\n",
       "      <td>HIGH</td>\n",
       "    </tr>\n",
       "    <tr>\n",
       "      <th>125</th>\n",
       "      <td>17-Jun</td>\n",
       "      <td>366.0</td>\n",
       "      <td>523</td>\n",
       "      <td>-140202.65</td>\n",
       "      <td>2405058.46</td>\n",
       "      <td>HIGH</td>\n",
       "    </tr>\n",
       "    <tr>\n",
       "      <th>126</th>\n",
       "      <td>17-Jul</td>\n",
       "      <td>373.0</td>\n",
       "      <td>527</td>\n",
       "      <td>-145878.59</td>\n",
       "      <td>2424918.25</td>\n",
       "      <td>HIGH</td>\n",
       "    </tr>\n",
       "    <tr>\n",
       "      <th>127</th>\n",
       "      <td>17-Aug</td>\n",
       "      <td>377.0</td>\n",
       "      <td>538</td>\n",
       "      <td>-151469.41</td>\n",
       "      <td>2477431.54</td>\n",
       "      <td>HIGH</td>\n",
       "    </tr>\n",
       "    <tr>\n",
       "      <th>128</th>\n",
       "      <td>17-Sep</td>\n",
       "      <td>380.0</td>\n",
       "      <td>555</td>\n",
       "      <td>-156953.12</td>\n",
       "      <td>2585197.66</td>\n",
       "      <td>HIGH</td>\n",
       "    </tr>\n",
       "    <tr>\n",
       "      <th>129</th>\n",
       "      <td>17-Oct</td>\n",
       "      <td>381.0</td>\n",
       "      <td>574</td>\n",
       "      <td>-162232.03</td>\n",
       "      <td>2718187.35</td>\n",
       "      <td>HIGH</td>\n",
       "    </tr>\n",
       "    <tr>\n",
       "      <th>130</th>\n",
       "      <td>17-Nov</td>\n",
       "      <td>388.0</td>\n",
       "      <td>595</td>\n",
       "      <td>-167686.22</td>\n",
       "      <td>2805695.60</td>\n",
       "      <td>HIGH</td>\n",
       "    </tr>\n",
       "    <tr>\n",
       "      <th>131</th>\n",
       "      <td>17-Dec</td>\n",
       "      <td>398.0</td>\n",
       "      <td>611</td>\n",
       "      <td>-172974.46</td>\n",
       "      <td>2852148.29</td>\n",
       "      <td>HIGH</td>\n",
       "    </tr>\n",
       "    <tr>\n",
       "      <th>132</th>\n",
       "      <td>18-Jan</td>\n",
       "      <td>409.0</td>\n",
       "      <td>619</td>\n",
       "      <td>-178452.51</td>\n",
       "      <td>2843343.06</td>\n",
       "      <td>HIGH</td>\n",
       "    </tr>\n",
       "    <tr>\n",
       "      <th>133</th>\n",
       "      <td>18-Feb</td>\n",
       "      <td>432.0</td>\n",
       "      <td>619</td>\n",
       "      <td>-183942.56</td>\n",
       "      <td>2993998.03</td>\n",
       "      <td>HIGH</td>\n",
       "    </tr>\n",
       "    <tr>\n",
       "      <th>134</th>\n",
       "      <td>18-Mar</td>\n",
       "      <td>438.0</td>\n",
       "      <td>614</td>\n",
       "      <td>-188907.39</td>\n",
       "      <td>3148298.64</td>\n",
       "      <td>HIGH</td>\n",
       "    </tr>\n",
       "    <tr>\n",
       "      <th>135</th>\n",
       "      <td>18-Apr</td>\n",
       "      <td>448.0</td>\n",
       "      <td>611</td>\n",
       "      <td>-194403.02</td>\n",
       "      <td>3202219.40</td>\n",
       "      <td>HIGH</td>\n",
       "    </tr>\n",
       "    <tr>\n",
       "      <th>136</th>\n",
       "      <td>18-May</td>\n",
       "      <td>465.0</td>\n",
       "      <td>607</td>\n",
       "      <td>-199710.65</td>\n",
       "      <td>3221254.41</td>\n",
       "      <td>HIGH</td>\n",
       "    </tr>\n",
       "    <tr>\n",
       "      <th>137</th>\n",
       "      <td>18-Jun</td>\n",
       "      <td>475.0</td>\n",
       "      <td>602</td>\n",
       "      <td>-205173.84</td>\n",
       "      <td>3353514.96</td>\n",
       "      <td>HIGH</td>\n",
       "    </tr>\n",
       "    <tr>\n",
       "      <th>138</th>\n",
       "      <td>18-Jul</td>\n",
       "      <td>477.0</td>\n",
       "      <td>598</td>\n",
       "      <td>-210431.48</td>\n",
       "      <td>3391015.52</td>\n",
       "      <td>HIGH</td>\n",
       "    </tr>\n",
       "    <tr>\n",
       "      <th>139</th>\n",
       "      <td>18-Aug</td>\n",
       "      <td>484.0</td>\n",
       "      <td>593</td>\n",
       "      <td>-215827.68</td>\n",
       "      <td>3472073.80</td>\n",
       "      <td>HIGH</td>\n",
       "    </tr>\n",
       "    <tr>\n",
       "      <th>140</th>\n",
       "      <td>18-Sep</td>\n",
       "      <td>485.0</td>\n",
       "      <td>578</td>\n",
       "      <td>-221184.06</td>\n",
       "      <td>3526807.59</td>\n",
       "      <td>HIGH</td>\n",
       "    </tr>\n",
       "    <tr>\n",
       "      <th>141</th>\n",
       "      <td>18-Oct</td>\n",
       "      <td>488.0</td>\n",
       "      <td>567</td>\n",
       "      <td>-226331.35</td>\n",
       "      <td>3575119.19</td>\n",
       "      <td>HIGH</td>\n",
       "    </tr>\n",
       "    <tr>\n",
       "      <th>142</th>\n",
       "      <td>18-Nov</td>\n",
       "      <td>NaN</td>\n",
       "      <td>595</td>\n",
       "      <td>-231615.18</td>\n",
       "      <td>3632294.41</td>\n",
       "      <td>HIGH</td>\n",
       "    </tr>\n",
       "    <tr>\n",
       "      <th>143</th>\n",
       "      <td>18-Dec</td>\n",
       "      <td>NaN</td>\n",
       "      <td>613</td>\n",
       "      <td>-236696.96</td>\n",
       "      <td>3694958.18</td>\n",
       "      <td>HIGH</td>\n",
       "    </tr>\n",
       "  </tbody>\n",
       "</table>\n",
       "<p>144 rows × 6 columns</p>\n",
       "</div>"
      ],
      "text/plain": [
       "      Month  Rig count  Production per rig  Legacy production change  \\\n",
       "0     7-Jan      248.0                  56                 -10656.10   \n",
       "1     7-Feb      253.0                  56                 -10909.10   \n",
       "2     7-Mar      242.0                  56                 -11136.84   \n",
       "3     7-Apr      243.0                  56                 -11392.43   \n",
       "4     7-May      243.0                  57                 -11647.10   \n",
       "5     7-Jun      244.0                  57                 -11920.42   \n",
       "6     7-Jul      244.0                  57                 -12194.42   \n",
       "7     7-Aug      248.0                  57                 -12484.52   \n",
       "8     7-Sep      247.0                  57                 -12778.14   \n",
       "9     7-Oct      242.0                  57                 -13060.48   \n",
       "10    7-Nov      240.0                  58                 -13343.13   \n",
       "11    7-Dec      253.0                  59                 -13599.46   \n",
       "12    8-Jan      249.0                  61                 -13834.93   \n",
       "13    8-Feb      250.0                  63                 -14023.24   \n",
       "14    8-Mar      257.0                  65                 -14134.88   \n",
       "15    8-Apr      259.0                  66                 -14201.68   \n",
       "16    8-May      261.0                  68                 -14589.65   \n",
       "17    8-Jun      285.0                  69                 -15153.50   \n",
       "18    8-Jul      287.0                  69                 -15810.60   \n",
       "19    8-Aug      285.0                  70                 -16499.40   \n",
       "20    8-Sep      285.0                  72                 -17095.84   \n",
       "21    8-Oct      276.0                  75                 -17534.19   \n",
       "22    8-Nov      253.0                  78                 -17783.08   \n",
       "23    8-Dec      234.0                  83                 -17858.11   \n",
       "24    9-Jan      194.0                  89                 -17802.45   \n",
       "25    9-Feb      162.0                  95                 -17637.11   \n",
       "26    9-Mar      129.0                 101                 -17472.20   \n",
       "27    9-Apr       93.0                 108                 -17328.56   \n",
       "28    9-May       92.0                 115                 -17307.74   \n",
       "29    9-Jun       99.0                 121                 -17439.07   \n",
       "..      ...        ...                 ...                       ...   \n",
       "114  16-Jul      162.0                 758                -103273.13   \n",
       "115  16-Aug      187.0                 759                -104517.08   \n",
       "116  16-Sep      199.0                 745                -106320.53   \n",
       "117  16-Oct      206.0                 714                -108461.48   \n",
       "118  16-Nov      222.0                 673                -111186.11   \n",
       "119  16-Dec      252.0                 636                -114289.87   \n",
       "120  17-Jan      276.0                 608                -117936.32   \n",
       "121  17-Feb      300.0                 586                -121980.41   \n",
       "122  17-Mar      310.0                 567                -125716.42   \n",
       "123  17-Apr      337.0                 543                -130212.35   \n",
       "124  17-May      356.0                 527                -134946.55   \n",
       "125  17-Jun      366.0                 523                -140202.65   \n",
       "126  17-Jul      373.0                 527                -145878.59   \n",
       "127  17-Aug      377.0                 538                -151469.41   \n",
       "128  17-Sep      380.0                 555                -156953.12   \n",
       "129  17-Oct      381.0                 574                -162232.03   \n",
       "130  17-Nov      388.0                 595                -167686.22   \n",
       "131  17-Dec      398.0                 611                -172974.46   \n",
       "132  18-Jan      409.0                 619                -178452.51   \n",
       "133  18-Feb      432.0                 619                -183942.56   \n",
       "134  18-Mar      438.0                 614                -188907.39   \n",
       "135  18-Apr      448.0                 611                -194403.02   \n",
       "136  18-May      465.0                 607                -199710.65   \n",
       "137  18-Jun      475.0                 602                -205173.84   \n",
       "138  18-Jul      477.0                 598                -210431.48   \n",
       "139  18-Aug      484.0                 593                -215827.68   \n",
       "140  18-Sep      485.0                 578                -221184.06   \n",
       "141  18-Oct      488.0                 567                -226331.35   \n",
       "142  18-Nov        NaN                 595                -231615.18   \n",
       "143  18-Dec        NaN                 613                -236696.96   \n",
       "\n",
       "     Total production Kategori  \n",
       "0           842782.16      LOW  \n",
       "1           857277.11      LOW  \n",
       "2           851889.52      LOW  \n",
       "3           853185.30      LOW  \n",
       "4           843555.68      LOW  \n",
       "5           834046.90      LOW  \n",
       "6           842654.32      LOW  \n",
       "7           843724.10      LOW  \n",
       "8           845308.23      LOW  \n",
       "9           850877.61      LOW  \n",
       "10          857462.50      LOW  \n",
       "11          862304.90      LOW  \n",
       "12          862372.26      LOW  \n",
       "13          870697.00      LOW  \n",
       "14          871941.23      LOW  \n",
       "15          867323.77      LOW  \n",
       "16          864677.58      LOW  \n",
       "17          857004.60      LOW  \n",
       "18          873954.81      LOW  \n",
       "19          875546.94      LOW  \n",
       "20          853345.20      LOW  \n",
       "21          890843.61      LOW  \n",
       "22          904142.63      LOW  \n",
       "23          902484.13      LOW  \n",
       "24          902237.00      LOW  \n",
       "25          904665.71      LOW  \n",
       "26          900338.71      LOW  \n",
       "27          885912.40      LOW  \n",
       "28          876697.68      LOW  \n",
       "29          864486.87      LOW  \n",
       "..                ...      ...  \n",
       "114        2031036.03     HIGH  \n",
       "115        2051892.54     HIGH  \n",
       "116        2041419.83     HIGH  \n",
       "117        2088743.51     HIGH  \n",
       "118        2110805.36     HIGH  \n",
       "119        2117689.87     HIGH  \n",
       "120        2145960.83     HIGH  \n",
       "121        2253965.71     HIGH  \n",
       "122        2268190.35     HIGH  \n",
       "123        2292793.50     HIGH  \n",
       "124        2387492.83     HIGH  \n",
       "125        2405058.46     HIGH  \n",
       "126        2424918.25     HIGH  \n",
       "127        2477431.54     HIGH  \n",
       "128        2585197.66     HIGH  \n",
       "129        2718187.35     HIGH  \n",
       "130        2805695.60     HIGH  \n",
       "131        2852148.29     HIGH  \n",
       "132        2843343.06     HIGH  \n",
       "133        2993998.03     HIGH  \n",
       "134        3148298.64     HIGH  \n",
       "135        3202219.40     HIGH  \n",
       "136        3221254.41     HIGH  \n",
       "137        3353514.96     HIGH  \n",
       "138        3391015.52     HIGH  \n",
       "139        3472073.80     HIGH  \n",
       "140        3526807.59     HIGH  \n",
       "141        3575119.19     HIGH  \n",
       "142        3632294.41     HIGH  \n",
       "143        3694958.18     HIGH  \n",
       "\n",
       "[144 rows x 6 columns]"
      ]
     },
     "execution_count": 5,
     "metadata": {},
     "output_type": "execute_result"
    }
   ],
   "source": [
    "permian = pd.read_csv(\"PERMIAN.csv\")\n",
    "permian"
   ]
  },
  {
   "cell_type": "code",
   "execution_count": 86,
   "metadata": {
    "scrolled": true
   },
   "outputs": [
    {
     "name": "stdout",
     "output_type": "stream",
     "text": [
      "<class 'pandas.core.frame.DataFrame'>\n",
      "RangeIndex: 144 entries, 0 to 143\n",
      "Data columns (total 6 columns):\n",
      "Month                       144 non-null object\n",
      "Rig count                   142 non-null float64\n",
      "Production per rig          144 non-null int64\n",
      "Legacy production change    144 non-null float64\n",
      "Total production            144 non-null float64\n",
      "Kategori                    144 non-null object\n",
      "dtypes: float64(3), int64(1), object(2)\n",
      "memory usage: 6.8+ KB\n"
     ]
    }
   ],
   "source": [
    "permian.info() # Dimensi kolom dan baris"
   ]
  },
  {
   "cell_type": "code",
   "execution_count": 87,
   "metadata": {},
   "outputs": [
    {
     "data": {
      "text/plain": [
       "(144, 6)"
      ]
     },
     "execution_count": 87,
     "metadata": {},
     "output_type": "execute_result"
    }
   ],
   "source": [
    "permian.shape"
   ]
  },
  {
   "cell_type": "code",
   "execution_count": 88,
   "metadata": {},
   "outputs": [
    {
     "data": {
      "text/plain": [
       "Month                       144\n",
       "Rig count                   142\n",
       "Production per rig          144\n",
       "Legacy production change    144\n",
       "Total production            144\n",
       "Kategori                    144\n",
       "dtype: int64"
      ]
     },
     "execution_count": 88,
     "metadata": {},
     "output_type": "execute_result"
    }
   ],
   "source": [
    "permian.count() # jumlah masing - masing atribut kolom"
   ]
  },
  {
   "cell_type": "code",
   "execution_count": 89,
   "metadata": {},
   "outputs": [
    {
     "data": {
      "text/plain": [
       "Index(['Month', 'Rig count', 'Production per rig', 'Legacy production change',\n",
       "       'Total production', 'Kategori'],\n",
       "      dtype='object')"
      ]
     },
     "execution_count": 89,
     "metadata": {},
     "output_type": "execute_result"
    }
   ],
   "source": [
    "permian.columns # nama setiap kolom"
   ]
  },
  {
   "cell_type": "code",
   "execution_count": 90,
   "metadata": {},
   "outputs": [
    {
     "data": {
      "text/html": [
       "<div>\n",
       "<style scoped>\n",
       "    .dataframe tbody tr th:only-of-type {\n",
       "        vertical-align: middle;\n",
       "    }\n",
       "\n",
       "    .dataframe tbody tr th {\n",
       "        vertical-align: top;\n",
       "    }\n",
       "\n",
       "    .dataframe thead th {\n",
       "        text-align: right;\n",
       "    }\n",
       "</style>\n",
       "<table border=\"1\" class=\"dataframe\">\n",
       "  <thead>\n",
       "    <tr style=\"text-align: right;\">\n",
       "      <th></th>\n",
       "      <th>Month</th>\n",
       "      <th>Rig count</th>\n",
       "      <th>Production per rig</th>\n",
       "      <th>Legacy production change</th>\n",
       "      <th>Total production</th>\n",
       "      <th>Kategori</th>\n",
       "    </tr>\n",
       "  </thead>\n",
       "  <tbody>\n",
       "    <tr>\n",
       "      <th>0</th>\n",
       "      <td>7-Jan</td>\n",
       "      <td>248.0</td>\n",
       "      <td>56</td>\n",
       "      <td>-10656.1</td>\n",
       "      <td>842782.16</td>\n",
       "      <td>LOW</td>\n",
       "    </tr>\n",
       "  </tbody>\n",
       "</table>\n",
       "</div>"
      ],
      "text/plain": [
       "   Month  Rig count  Production per rig  Legacy production change  \\\n",
       "0  7-Jan      248.0                  56                  -10656.1   \n",
       "\n",
       "   Total production Kategori  \n",
       "0         842782.16      LOW  "
      ]
     },
     "execution_count": 90,
     "metadata": {},
     "output_type": "execute_result"
    }
   ],
   "source": [
    "permian.head(1)"
   ]
  },
  {
   "cell_type": "code",
   "execution_count": 91,
   "metadata": {},
   "outputs": [
    {
     "data": {
      "text/html": [
       "<div>\n",
       "<style scoped>\n",
       "    .dataframe tbody tr th:only-of-type {\n",
       "        vertical-align: middle;\n",
       "    }\n",
       "\n",
       "    .dataframe tbody tr th {\n",
       "        vertical-align: top;\n",
       "    }\n",
       "\n",
       "    .dataframe thead th {\n",
       "        text-align: right;\n",
       "    }\n",
       "</style>\n",
       "<table border=\"1\" class=\"dataframe\">\n",
       "  <thead>\n",
       "    <tr style=\"text-align: right;\">\n",
       "      <th></th>\n",
       "      <th>Month</th>\n",
       "      <th>Rig count</th>\n",
       "      <th>Production per rig</th>\n",
       "      <th>Legacy production change</th>\n",
       "      <th>Total production</th>\n",
       "      <th>Kategori</th>\n",
       "    </tr>\n",
       "  </thead>\n",
       "  <tbody>\n",
       "    <tr>\n",
       "      <th>143</th>\n",
       "      <td>18-Dec</td>\n",
       "      <td>NaN</td>\n",
       "      <td>613</td>\n",
       "      <td>-236696.96</td>\n",
       "      <td>3694958.18</td>\n",
       "      <td>HIGH</td>\n",
       "    </tr>\n",
       "    <tr>\n",
       "      <th>142</th>\n",
       "      <td>18-Nov</td>\n",
       "      <td>NaN</td>\n",
       "      <td>595</td>\n",
       "      <td>-231615.18</td>\n",
       "      <td>3632294.41</td>\n",
       "      <td>HIGH</td>\n",
       "    </tr>\n",
       "    <tr>\n",
       "      <th>141</th>\n",
       "      <td>18-Oct</td>\n",
       "      <td>488.0</td>\n",
       "      <td>567</td>\n",
       "      <td>-226331.35</td>\n",
       "      <td>3575119.19</td>\n",
       "      <td>HIGH</td>\n",
       "    </tr>\n",
       "  </tbody>\n",
       "</table>\n",
       "</div>"
      ],
      "text/plain": [
       "      Month  Rig count  Production per rig  Legacy production change  \\\n",
       "143  18-Dec        NaN                 613                -236696.96   \n",
       "142  18-Nov        NaN                 595                -231615.18   \n",
       "141  18-Oct      488.0                 567                -226331.35   \n",
       "\n",
       "     Total production Kategori  \n",
       "143        3694958.18     HIGH  \n",
       "142        3632294.41     HIGH  \n",
       "141        3575119.19     HIGH  "
      ]
     },
     "execution_count": 91,
     "metadata": {},
     "output_type": "execute_result"
    }
   ],
   "source": [
    "# mengurutkan data Total production dari yang terbesar, 3 pertama yang paling atas\n",
    "df4=permian.sort_values([\"Total production\"], ascending=[0])\n",
    "df4[:3]"
   ]
  },
  {
   "cell_type": "code",
   "execution_count": 92,
   "metadata": {},
   "outputs": [
    {
     "data": {
      "text/html": [
       "<div>\n",
       "<style scoped>\n",
       "    .dataframe tbody tr th:only-of-type {\n",
       "        vertical-align: middle;\n",
       "    }\n",
       "\n",
       "    .dataframe tbody tr th {\n",
       "        vertical-align: top;\n",
       "    }\n",
       "\n",
       "    .dataframe thead th {\n",
       "        text-align: right;\n",
       "    }\n",
       "</style>\n",
       "<table border=\"1\" class=\"dataframe\">\n",
       "  <thead>\n",
       "    <tr style=\"text-align: right;\">\n",
       "      <th></th>\n",
       "      <th>Month</th>\n",
       "      <th>Rig count</th>\n",
       "      <th>Production per rig</th>\n",
       "      <th>Legacy production change</th>\n",
       "      <th>Total production</th>\n",
       "      <th>Kategori</th>\n",
       "    </tr>\n",
       "  </thead>\n",
       "  <tbody>\n",
       "    <tr>\n",
       "      <th>5</th>\n",
       "      <td>7-Jun</td>\n",
       "      <td>244.0</td>\n",
       "      <td>57</td>\n",
       "      <td>-11920.42</td>\n",
       "      <td>834046.90</td>\n",
       "      <td>LOW</td>\n",
       "    </tr>\n",
       "    <tr>\n",
       "      <th>6</th>\n",
       "      <td>7-Jul</td>\n",
       "      <td>244.0</td>\n",
       "      <td>57</td>\n",
       "      <td>-12194.42</td>\n",
       "      <td>842654.32</td>\n",
       "      <td>LOW</td>\n",
       "    </tr>\n",
       "    <tr>\n",
       "      <th>0</th>\n",
       "      <td>7-Jan</td>\n",
       "      <td>248.0</td>\n",
       "      <td>56</td>\n",
       "      <td>-10656.10</td>\n",
       "      <td>842782.16</td>\n",
       "      <td>LOW</td>\n",
       "    </tr>\n",
       "  </tbody>\n",
       "</table>\n",
       "</div>"
      ],
      "text/plain": [
       "   Month  Rig count  Production per rig  Legacy production change  \\\n",
       "5  7-Jun      244.0                  57                 -11920.42   \n",
       "6  7-Jul      244.0                  57                 -12194.42   \n",
       "0  7-Jan      248.0                  56                 -10656.10   \n",
       "\n",
       "   Total production Kategori  \n",
       "5         834046.90      LOW  \n",
       "6         842654.32      LOW  \n",
       "0         842782.16      LOW  "
      ]
     },
     "execution_count": 92,
     "metadata": {},
     "output_type": "execute_result"
    }
   ],
   "source": [
    "# mengurutkan data Total production dari yang terkecil, 3 pertama yang paling atas\n",
    "\n",
    "df4=permian.sort_values([\"Total production\"], ascending=[1])\n",
    "df4[:3]"
   ]
  },
  {
   "cell_type": "code",
   "execution_count": 11,
   "metadata": {},
   "outputs": [],
   "source": [
    "# Beberapa atribut data"
   ]
  },
  {
   "cell_type": "code",
   "execution_count": 93,
   "metadata": {},
   "outputs": [
    {
     "data": {
      "text/html": [
       "<div>\n",
       "<style scoped>\n",
       "    .dataframe tbody tr th:only-of-type {\n",
       "        vertical-align: middle;\n",
       "    }\n",
       "\n",
       "    .dataframe tbody tr th {\n",
       "        vertical-align: top;\n",
       "    }\n",
       "\n",
       "    .dataframe thead th {\n",
       "        text-align: right;\n",
       "    }\n",
       "</style>\n",
       "<table border=\"1\" class=\"dataframe\">\n",
       "  <thead>\n",
       "    <tr style=\"text-align: right;\">\n",
       "      <th></th>\n",
       "      <th>Rig count</th>\n",
       "      <th>Production per rig</th>\n",
       "      <th>Legacy production change</th>\n",
       "      <th>Total production</th>\n",
       "    </tr>\n",
       "  </thead>\n",
       "  <tbody>\n",
       "    <tr>\n",
       "      <th>count</th>\n",
       "      <td>142.000000</td>\n",
       "      <td>144.000000</td>\n",
       "      <td>144.000000</td>\n",
       "      <td>1.440000e+02</td>\n",
       "    </tr>\n",
       "    <tr>\n",
       "      <th>mean</th>\n",
       "      <td>338.718310</td>\n",
       "      <td>268.194444</td>\n",
       "      <td>-70985.264653</td>\n",
       "      <td>1.536542e+06</td>\n",
       "    </tr>\n",
       "    <tr>\n",
       "      <th>std</th>\n",
       "      <td>132.978821</td>\n",
       "      <td>220.685178</td>\n",
       "      <td>58818.038190</td>\n",
       "      <td>7.531264e+05</td>\n",
       "    </tr>\n",
       "    <tr>\n",
       "      <th>min</th>\n",
       "      <td>92.000000</td>\n",
       "      <td>56.000000</td>\n",
       "      <td>-236696.960000</td>\n",
       "      <td>8.340469e+05</td>\n",
       "    </tr>\n",
       "    <tr>\n",
       "      <th>25%</th>\n",
       "      <td>240.250000</td>\n",
       "      <td>108.000000</td>\n",
       "      <td>-104056.922500</td>\n",
       "      <td>9.027758e+05</td>\n",
       "    </tr>\n",
       "    <tr>\n",
       "      <th>50%</th>\n",
       "      <td>308.000000</td>\n",
       "      <td>136.500000</td>\n",
       "      <td>-53533.430000</td>\n",
       "      <td>1.268878e+06</td>\n",
       "    </tr>\n",
       "    <tr>\n",
       "      <th>75%</th>\n",
       "      <td>467.750000</td>\n",
       "      <td>491.750000</td>\n",
       "      <td>-18780.405000</td>\n",
       "      <td>1.941094e+06</td>\n",
       "    </tr>\n",
       "    <tr>\n",
       "      <th>max</th>\n",
       "      <td>565.000000</td>\n",
       "      <td>759.000000</td>\n",
       "      <td>-10656.100000</td>\n",
       "      <td>3.694958e+06</td>\n",
       "    </tr>\n",
       "  </tbody>\n",
       "</table>\n",
       "</div>"
      ],
      "text/plain": [
       "        Rig count  Production per rig  Legacy production change  \\\n",
       "count  142.000000          144.000000                144.000000   \n",
       "mean   338.718310          268.194444             -70985.264653   \n",
       "std    132.978821          220.685178              58818.038190   \n",
       "min     92.000000           56.000000            -236696.960000   \n",
       "25%    240.250000          108.000000            -104056.922500   \n",
       "50%    308.000000          136.500000             -53533.430000   \n",
       "75%    467.750000          491.750000             -18780.405000   \n",
       "max    565.000000          759.000000             -10656.100000   \n",
       "\n",
       "       Total production  \n",
       "count      1.440000e+02  \n",
       "mean       1.536542e+06  \n",
       "std        7.531264e+05  \n",
       "min        8.340469e+05  \n",
       "25%        9.027758e+05  \n",
       "50%        1.268878e+06  \n",
       "75%        1.941094e+06  \n",
       "max        3.694958e+06  "
      ]
     },
     "execution_count": 93,
     "metadata": {},
     "output_type": "execute_result"
    }
   ],
   "source": [
    "permian.describe()"
   ]
  },
  {
   "cell_type": "code",
   "execution_count": null,
   "metadata": {},
   "outputs": [],
   "source": []
  },
  {
   "cell_type": "code",
   "execution_count": null,
   "metadata": {},
   "outputs": [],
   "source": []
  },
  {
   "cell_type": "code",
   "execution_count": null,
   "metadata": {},
   "outputs": [],
   "source": []
  },
  {
   "cell_type": "code",
   "execution_count": null,
   "metadata": {},
   "outputs": [],
   "source": []
  },
  {
   "cell_type": "code",
   "execution_count": 11,
   "metadata": {},
   "outputs": [
    {
     "name": "stdout",
     "output_type": "stream",
     "text": [
      "Production per rig 65.30000000000001\n",
      "Legacy production change -160648.357\n",
      "Total production 862308.9469999999\n"
     ]
    }
   ],
   "source": [
    "import numpy as np\n",
    "df2=permian.sort_values([\"Production per rig\"], ascending=[1])\n",
    "df3=permian.sort_values([\"Legacy production change\"], ascending=[1])\n",
    "df4=permian.sort_values([\"Total production\"], ascending=[1])\n",
    "\n",
    "print(\"Production per rig\", np.percentile(permian.sort_values(\"Production per rig\")[\"Production per rig\"],10))\n",
    "print(\"Legacy production change\", np.percentile(permian.sort_values(\"Legacy production change\")[\"Legacy production change\"],10))\n",
    "print(\"Total production\", np.percentile(permian.sort_values(\"Total production\")[\"Total production\"],10))"
   ]
  },
  {
   "cell_type": "code",
   "execution_count": 12,
   "metadata": {},
   "outputs": [
    {
     "name": "stdout",
     "output_type": "stream",
     "text": [
      "Production per rig 610.1\n",
      "Legacy production change -14154.919999999998\n",
      "Total production 2678290.4430000023\n"
     ]
    }
   ],
   "source": [
    "import numpy as np\n",
    "df2=permian.sort_values([\"Production per rig\"], ascending=[1])\n",
    "df3=permian.sort_values([\"Legacy production change\"], ascending=[1])\n",
    "df4=permian.sort_values([\"Total production\"], ascending=[1])\n",
    "\n",
    "print(\"Production per rig\", np.percentile(permian.sort_values(\"Production per rig\")[\"Production per rig\"],90))\n",
    "print(\"Legacy production change\", np.percentile(permian.sort_values(\"Legacy production change\")[\"Legacy production change\"],90))\n",
    "print(\"Total production\", np.percentile(permian.sort_values(\"Total production\")[\"Total production\"],90))"
   ]
  },
  {
   "cell_type": "code",
   "execution_count": null,
   "metadata": {},
   "outputs": [],
   "source": []
  },
  {
   "cell_type": "code",
   "execution_count": 111,
   "metadata": {},
   "outputs": [
    {
     "data": {
      "text/plain": [
       "<matplotlib.axes._subplots.AxesSubplot at 0x2138a16ba90>"
      ]
     },
     "execution_count": 111,
     "metadata": {},
     "output_type": "execute_result"
    },
    {
     "data": {
      "image/png": "[encoded data removed]",
      "text/plain": [
       "<Figure size 432x288 with 1 Axes>"
      ]
     },
     "metadata": {
      "needs_background": "light"
     },
     "output_type": "display_data"
    }
   ],
   "source": [
    "permian.plot(kind='hist', bins=[0, 150, 300, 450, 600], y='Rig count',color='red')"
   ]
  },
  {
   "cell_type": "code",
   "execution_count": 114,
   "metadata": {},
   "outputs": [
    {
     "data": {
      "text/plain": [
       "<matplotlib.axes._subplots.AxesSubplot at 0x2138a25fc88>"
      ]
     },
     "execution_count": 114,
     "metadata": {},
     "output_type": "execute_result"
    },
    {
     "data": {
      "image/png": "[encoded data removed]",
      "text/plain": [
       "<Figure size 432x288 with 1 Axes>"
      ]
     },
     "metadata": {
      "needs_background": "light"
     },
     "output_type": "display_data"
    }
   ],
   "source": [
    "permian.plot(kind='line', x='Month', y='Rig count',color='blue')"
   ]
  },
  {
   "cell_type": "code",
   "execution_count": 18,
   "metadata": {},
   "outputs": [
    {
     "data": {
      "text/plain": [
       "<matplotlib.axes._subplots.AxesSubplot at 0x21387cedb00>"
      ]
     },
     "execution_count": 18,
     "metadata": {},
     "output_type": "execute_result"
    },
    {
     "data": {
      "image/png": "[encoded data removed]",
      "text/plain": [
       "<Figure size 432x288 with 1 Axes>"
      ]
     },
     "metadata": {
      "needs_background": "light"
     },
     "output_type": "display_data"
    }
   ],
   "source": [
    "permian.plot(kind='line', x='Month', y='Production per rig')"
   ]
  },
  {
   "cell_type": "code",
   "execution_count": 19,
   "metadata": {},
   "outputs": [
    {
     "data": {
      "text/plain": [
       "<matplotlib.axes._subplots.AxesSubplot at 0x21387d540f0>"
      ]
     },
     "execution_count": 19,
     "metadata": {},
     "output_type": "execute_result"
    },
    {
     "data": {
      "image/png": "[encoded data removed]",
      "text/plain": [
       "<Figure size 432x288 with 1 Axes>"
      ]
     },
     "metadata": {
      "needs_background": "light"
     },
     "output_type": "display_data"
    }
   ],
   "source": [
    "permian.plot(kind='line', x='Month', y=['Rig count', 'Production per rig'])"
   ]
  },
  {
   "cell_type": "code",
   "execution_count": 20,
   "metadata": {},
   "outputs": [
    {
     "data": {
      "text/plain": [
       "<matplotlib.axes._subplots.AxesSubplot at 0x21387da6358>"
      ]
     },
     "execution_count": 20,
     "metadata": {},
     "output_type": "execute_result"
    },
    {
     "data": {
      "image/png": "[encoded data removed]",
      "text/plain": [
       "<Figure size 432x288 with 1 Axes>"
      ]
     },
     "metadata": {
      "needs_background": "light"
     },
     "output_type": "display_data"
    }
   ],
   "source": [
    "permian.plot(kind='line', x='Month', y=['Legacy production change', 'Total production'])\n"
   ]
  },
  {
   "cell_type": "code",
   "execution_count": 66,
   "metadata": {},
   "outputs": [
    {
     "data": {
      "text/plain": [
       "<matplotlib.axes._subplots.AxesSubplot at 0x250c21984e0>"
      ]
     },
     "execution_count": 66,
     "metadata": {},
     "output_type": "execute_result"
    },
    {
     "data": {
      "image/png": "[encoded data removed]",
      "text/plain": [
       "<Figure size 432x288 with 1 Axes>"
      ]
     },
     "metadata": {
      "needs_background": "light"
     },
     "output_type": "display_data"
    }
   ],
   "source": [
    "permian.plot(kind='scatter', x='Total production', y='Production per rig',title=\"Persebaran Production per Rig terhadap Rig Count\")"
   ]
  },
  {
   "cell_type": "code",
   "execution_count": 30,
   "metadata": {},
   "outputs": [
    {
     "data": {
      "text/plain": [
       "<matplotlib.axes._subplots.AxesSubplot at 0x21389224be0>"
      ]
     },
     "execution_count": 30,
     "metadata": {},
     "output_type": "execute_result"
    },
    {
     "data": {
      "image/png": "[encoded data removed]",
      "text/plain": [
       "<Figure size 432x288 with 1 Axes>"
      ]
     },
     "metadata": {
      "needs_background": "light"
     },
     "output_type": "display_data"
    }
   ],
   "source": [
    "permian.plot(kind='scatter', x='Legacy production change', y='Total production',title=\"Total Production vs Legacy production change\")"
   ]
  },
  {
   "cell_type": "code",
   "execution_count": 56,
   "metadata": {},
   "outputs": [
    {
     "data": {
      "image/png": "[encoded data removed]",
      "text/plain": [
       "<Figure size 432x288 with 1 Axes>"
      ]
     },
     "metadata": {
      "needs_background": "light"
     },
     "output_type": "display_data"
    }
   ],
   "source": [
    "df3=permian.groupby(['Kategori'])[\"Rig count\"].sum()\n",
    "df3.plot(kind=\"barh\",title=\"Rig count per category\") \n",
    "plt.show()"
   ]
  },
  {
   "cell_type": "code",
   "execution_count": 51,
   "metadata": {},
   "outputs": [
    {
     "data": {
      "image/png": "[encoded data removed]",
      "text/plain": [
       "<Figure size 432x288 with 1 Axes>"
      ]
     },
     "metadata": {
      "needs_background": "light"
     },
     "output_type": "display_data"
    }
   ],
   "source": [
    "df3=permian.groupby(['Kategori'])[\"Total production\"].sum()\n",
    "df3.plot(kind=\"barh\",x=\"Kategori\",y=[\"Total production\"],title=\"Total production per category\") \n",
    "plt.show()"
   ]
  },
  {
   "cell_type": "code",
   "execution_count": 65,
   "metadata": {},
   "outputs": [
    {
     "data": {
      "image/png": "[encoded data removed]",
      "text/plain": [
       "<Figure size 432x288 with 1 Axes>"
      ]
     },
     "metadata": {},
     "output_type": "display_data"
    }
   ],
   "source": [
    "df2=permian.groupby(['Kategori'])[\"Production per rig\"].sum() \n",
    "df2.plot(kind = \"pie\") \n",
    "plt.show()\n"
   ]
  },
  {
   "cell_type": "code",
   "execution_count": 57,
   "metadata": {},
   "outputs": [
    {
     "data": {
      "image/png": "[encoded data removed]",
      "text/plain": [
       "<Figure size 432x288 with 1 Axes>"
      ]
     },
     "metadata": {},
     "output_type": "display_data"
    }
   ],
   "source": [
    "df2=permian.groupby(['Kategori'])[\"Total production\"].sum()\n",
    "df2.plot(kind = \"pie\") \n",
    "plt.show()"
   ]
  },
  {
   "cell_type": "code",
   "execution_count": null,
   "metadata": {},
   "outputs": [],
   "source": []
  },
  {
   "cell_type": "code",
   "execution_count": null,
   "metadata": {},
   "outputs": [],
   "source": []
  },
  {
   "cell_type": "code",
   "execution_count": 16,
   "metadata": {},
   "outputs": [
    {
     "name": "stdout",
     "output_type": "stream",
     "text": [
      "                          Rig count  Production per rig  \\\n",
      "Rig count                  1.000000           -0.068244   \n",
      "Production per rig        -0.068244            1.000000   \n",
      "Legacy production change  -0.310644           -0.866189   \n",
      "Total production           0.273618            0.874762   \n",
      "\n",
      "                          Legacy production change  Total production  \n",
      "Rig count                                -0.310644          0.273618  \n",
      "Production per rig                       -0.866189          0.874762  \n",
      "Legacy production change                  1.000000         -0.997439  \n",
      "Total production                         -0.997439          1.000000  \n"
     ]
    }
   ],
   "source": [
    "#KORELASI\n",
    "print(permian.corr())\n"
   ]
  },
  {
   "cell_type": "code",
   "execution_count": null,
   "metadata": {},
   "outputs": [],
   "source": []
  },
  {
   "cell_type": "code",
   "execution_count": null,
   "metadata": {},
   "outputs": [],
   "source": []
  },
  {
   "cell_type": "code",
   "execution_count": null,
   "metadata": {},
   "outputs": [],
   "source": []
  },
  {
   "cell_type": "code",
   "execution_count": null,
   "metadata": {},
   "outputs": [],
   "source": []
  },
  {
   "cell_type": "code",
   "execution_count": null,
   "metadata": {},
   "outputs": [],
   "source": []
  }
 ],
 "metadata": {
  "kernelspec": {
   "display_name": "Python 3",
   "language": "python",
   "name": "python3"
  },
  "language_info": {
   "codemirror_mode": {
    "name": "ipython",
    "version": 3
   },
   "file_extension": ".py",
   "mimetype": "text/x-python",
   "name": "python",
   "nbconvert_exporter": "python",
   "pygments_lexer": "ipython3",
   "version": "3.7.0"
  }
 },
 "nbformat": 4,
 "nbformat_minor": 2
}
