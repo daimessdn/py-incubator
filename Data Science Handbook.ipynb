{
 "cells": [
  {
   "cell_type": "markdown",
   "metadata": {},
   "source": [
    "# Big Data Structure of Pandas"
   ]
  },
  {
   "cell_type": "markdown",
   "metadata": {},
   "source": [
    "## DataFrames"
   ]
  },
  {
   "cell_type": "code",
   "execution_count": 26,
   "metadata": {},
   "outputs": [],
   "source": [
    "import pandas as pd"
   ]
  },
  {
   "cell_type": "code",
   "execution_count": 27,
   "metadata": {},
   "outputs": [],
   "source": [
    "# making data frame from a dictionary\n",
    "# that maps column names to their values\n",
    "df = pd.DataFrame({\n",
    "    \"name\": [\"Bob\", \"Alex\", \"Janice\"],\n",
    "    \"age\": [60, 25, 33]\n",
    "})"
   ]
  },
  {
   "cell_type": "code",
   "execution_count": 28,
   "metadata": {},
   "outputs": [],
   "source": [
    "# Reading a DataFrame from a file\n",
    "# other_df = pd.read_csv(\"myfile.csv\")"
   ]
  },
  {
   "cell_type": "code",
   "execution_count": 29,
   "metadata": {},
   "outputs": [],
   "source": [
    "# Making new columns from old ones\n",
    "# is really easy\n",
    "df[\"age_plus_one\"] = df[\"age\"] + 1\n",
    "df[\"age_times_two\"] = 2 * df[\"age\"]\n",
    "df[\"age_squared\"] = df[\"age\"] * df[\"age\"]\n",
    "df[\"over_30\"] = (df[\"age\"] > 30) # this col is bools"
   ]
  },
  {
   "cell_type": "code",
   "execution_count": 30,
   "metadata": {},
   "outputs": [],
   "source": [
    "# The columns have various built-in aggregate functions\n",
    "total_age = df[\"age\"].sum()\n",
    "median_age = df[\"age\"].quantile(0.5)"
   ]
  },
  {
   "cell_type": "code",
   "execution_count": 31,
   "metadata": {},
   "outputs": [],
   "source": [
    "# You can select several rows pf the DataFrame\n",
    "# and make a new DataFrame out of them\n",
    "df_below50 = df[df[\"age\"] < 50]"
   ]
  },
  {
   "cell_type": "code",
   "execution_count": 32,
   "metadata": {},
   "outputs": [],
   "source": [
    "# Apply a custom function to a column\n",
    "df[\"age_squared\"] = df[\"age\"].apply(lambda x: x*x)"
   ]
  },
  {
   "cell_type": "code",
   "execution_count": 33,
   "metadata": {},
   "outputs": [
    {
     "name": "stdout",
     "output_type": "stream",
     "text": [
      "RangeIndex(start=0, stop=3, step=1)\n"
     ]
    }
   ],
   "source": [
    "df = pd.DataFrame({\n",
    "    \"name\": [\"Bob\", \"Alex\", \"Janice\"],\n",
    "    \"age\": [60, 25, 33]\n",
    "})\n",
    "print(df.index) # prints 0-2, the line numbers"
   ]
  },
  {
   "cell_type": "code",
   "execution_count": 34,
   "metadata": {},
   "outputs": [
    {
     "name": "stdout",
     "output_type": "stream",
     "text": [
      "     name  age\n",
      "0     Bob   60\n",
      "1    Alex   25\n",
      "2  Janice   33\n"
     ]
    }
   ],
   "source": [
    "print(df)"
   ]
  },
  {
   "cell_type": "code",
   "execution_count": 25,
   "metadata": {},
   "outputs": [
    {
     "name": "stdout",
     "output_type": "stream",
     "text": [
      "     name  age\n",
      "0     Bob   60\n",
      "1    Alex   25\n",
      "2  Janice   33\n"
     ]
    }
   ],
   "source": [
    "print(df)"
   ]
  },
  {
   "cell_type": "code",
   "execution_count": 10,
   "metadata": {},
   "outputs": [
    {
     "name": "stdout",
     "output_type": "stream",
     "text": [
      "Index(['Bob', 'Alex', 'Janice'], dtype='object', name='name')\n",
      "        age\n",
      "name       \n",
      "Bob      60\n",
      "Alex     25\n",
      "Janice   33\n"
     ]
    }
   ],
   "source": [
    "# Create a DataFrame containing the same data,\n",
    "# but wherename is the index\n",
    "df_w_name_as_ind = df.set_index(\"name\")\n",
    "print(df_w_name_as_ind.index) # prints their name\n",
    "print(df_w_name_as_ind)"
   ]
  },
  {
   "cell_type": "code",
   "execution_count": 12,
   "metadata": {},
   "outputs": [
    {
     "name": "stdout",
     "output_type": "stream",
     "text": [
      "60\n",
      "age    60\n",
      "Name: Bob, dtype: int64\n"
     ]
    }
   ],
   "source": [
    "# Get the row for Bob\n",
    "# .ix for earlier version\n",
    "# new version\n",
    "# .loc for label based indexing\n",
    "# .iloc for positional indexing\n",
    "bobs_row = df_w_name_as_ind.loc[\"Bob\"]\n",
    "print(bobs_row[\"age\"]) # prints 60\n",
    "print(bobs_row)"
   ]
  },
  {
   "cell_type": "code",
   "execution_count": 18,
   "metadata": {},
   "outputs": [
    {
     "name": "stdout",
     "output_type": "stream",
     "text": [
      "   name        date  shares  price\n",
      "0    AA  2001-12-01     100   12.3\n",
      "1   IBM  2012-02-10      30   10.3\n",
      "2  GOOG  2010-04-09      90   32.3\n"
     ]
    }
   ],
   "source": [
    "#### another example of DataFrame #2\n",
    "import pandas as pd\n",
    "\n",
    "data = {\n",
    "    'name' : ['AA', 'IBM', 'GOOG'],\n",
    "    'date' : ['2001-12-01', '2012-02-10', '2010-04-09'],\n",
    "    'shares' : [100, 30, 90],\n",
    "    'price': [12.3, 10.3, 32.3]\n",
    "}\n",
    "\n",
    "df = pd.DataFrame(data)\n",
    "type(df)\n",
    "\n",
    "print(df)"
   ]
  },
  {
   "cell_type": "code",
   "execution_count": 19,
   "metadata": {},
   "outputs": [
    {
     "name": "stdout",
     "output_type": "stream",
     "text": [
      "   name        date  shares  price    owner\n",
      "0    AA  2001-12-01     100   12.3  Unknown\n",
      "1   IBM  2012-02-10      30   10.3  Unknown\n",
      "2  GOOG  2010-04-09      90   32.3  Unknown\n"
     ]
    }
   ],
   "source": [
    "# add column\n",
    "df['owner'] = 'Unknown'\n",
    "\n",
    "print(df)"
   ]
  },
  {
   "cell_type": "code",
   "execution_count": 20,
   "metadata": {},
   "outputs": [
    {
     "name": "stdout",
     "output_type": "stream",
     "text": [
      "       name        date  shares  price    owner\n",
      "one      AA  2001-12-01     100   12.3  Unknown\n",
      "two     IBM  2012-02-10      30   10.3  Unknown\n",
      "three  GOOG  2010-04-09      90   32.3  Unknown\n",
      "            date  shares  price    owner\n",
      "name                                    \n",
      "AA    2001-12-01     100   12.3  Unknown\n",
      "IBM   2012-02-10      30   10.3  Unknown\n",
      "GOOG  2010-04-09      90   32.3  Unknown\n"
     ]
    }
   ],
   "source": [
    "# change/set index\n",
    "df.index = ['one', 'two', 'three']\n",
    "\n",
    "print(df)\n",
    "\n",
    "# set name as index\n",
    "df = df.set_index(['name'])\n",
    "\n",
    "print(df)"
   ]
  },
  {
   "cell_type": "code",
   "execution_count": 21,
   "metadata": {},
   "outputs": [
    {
     "name": "stdout",
     "output_type": "stream",
     "text": [
      "name\n",
      "AA      100\n",
      "IBM      30\n",
      "GOOG     90\n",
      "Name: shares, dtype: int64\n",
      "date      2001-12-01\n",
      "shares           100\n",
      "price           12.3\n",
      "owner        Unknown\n",
      "Name: AA, dtype: object\n"
     ]
    }
   ],
   "source": [
    "# access data by column-index\n",
    "print(df['shares'])\n",
    "\n",
    "# access data by row-index\n",
    "print(df.loc['AA'])"
   ]
  },
  {
   "cell_type": "code",
   "execution_count": 22,
   "metadata": {},
   "outputs": [
    {
     "name": "stdout",
     "output_type": "stream",
     "text": [
      "            date  shares  price\n",
      "name                           \n",
      "AA    2001-12-01     100   12.3\n",
      "IBM   2012-02-10      30   10.3\n",
      "GOOG  2010-04-09      90   32.3\n",
      "            date  shares  price\n",
      "name                           \n",
      "AA    2001-12-01     100   12.3\n",
      "IBM   2012-02-10      30   10.3\n",
      "GOOG  2010-04-09      90   32.3\n"
     ]
    }
   ],
   "source": [
    "# delete some elements\n",
    "del df['owner']\n",
    "print(df)\n",
    "\n",
    "df.drop('shares', axis = 1)\n",
    "print(df)"
   ]
  },
  {
   "cell_type": "markdown",
   "metadata": {},
   "source": [
    "## Series"
   ]
  },
  {
   "cell_type": "code",
   "execution_count": 13,
   "metadata": {},
   "outputs": [],
   "source": [
    "import pandas as pd"
   ]
  },
  {
   "cell_type": "code",
   "execution_count": 14,
   "metadata": {},
   "outputs": [],
   "source": [
    "s = pd.Series([1,2,3]) # make Series from list"
   ]
  },
  {
   "cell_type": "code",
   "execution_count": 15,
   "metadata": {},
   "outputs": [
    {
     "data": {
      "text/plain": [
       "0    1\n",
       "1    2\n",
       "2    3\n",
       "dtype: int64"
      ]
     },
     "execution_count": 15,
     "metadata": {},
     "output_type": "execute_result"
    }
   ],
   "source": [
    "# display the values in s\n",
    "# note that index is to the far left\n",
    "s"
   ]
  },
  {
   "cell_type": "code",
   "execution_count": 16,
   "metadata": {},
   "outputs": [
    {
     "data": {
      "text/plain": [
       "0    3\n",
       "1    4\n",
       "2    5\n",
       "dtype: int64"
      ]
     },
     "execution_count": 16,
     "metadata": {},
     "output_type": "execute_result"
    }
   ],
   "source": [
    "s+2 # add a number to each element of s"
   ]
  },
  {
   "cell_type": "code",
   "execution_count": 17,
   "metadata": {},
   "outputs": [
    {
     "data": {
      "text/plain": [
       "RangeIndex(start=0, stop=3, step=1)"
      ]
     },
     "execution_count": 17,
     "metadata": {},
     "output_type": "execute_result"
    }
   ],
   "source": [
    "s.index #you can access the index directly"
   ]
  },
  {
   "cell_type": "code",
   "execution_count": 18,
   "metadata": {},
   "outputs": [
    {
     "data": {
      "text/plain": [
       "0    5\n",
       "1    6\n",
       "2    8\n",
       "dtype: int64"
      ]
     },
     "execution_count": 18,
     "metadata": {},
     "output_type": "execute_result"
    }
   ],
   "source": [
    "# adding two series will add corresponding elements to each other\n",
    "s + pd.Series([4,4,5])"
   ]
  },
  {
   "cell_type": "markdown",
   "metadata": {},
   "source": [
    "So, let's get back to first section..."
   ]
  },
  {
   "cell_type": "code",
   "execution_count": 23,
   "metadata": {
    "scrolled": true
   },
   "outputs": [
    {
     "data": {
      "text/plain": [
       "age    60\n",
       "Name: Bob, dtype: int64"
      ]
     },
     "execution_count": 23,
     "metadata": {},
     "output_type": "execute_result"
    }
   ],
   "source": [
    "bobs_row = df_w_name_as_ind.loc[\"Bob\"]\n",
    "type(bobs_row)\n",
    "bobs_row"
   ]
  },
  {
   "cell_type": "code",
   "execution_count": 2,
   "metadata": {},
   "outputs": [
    {
     "name": "stdout",
     "output_type": "stream",
     "text": [
      "<class 'pandas.core.series.Series'>\n",
      "0            AA\n",
      "1    2012-02-01\n",
      "2           100\n",
      "3          10.2\n",
      "dtype: object\n"
     ]
    }
   ],
   "source": [
    "# another Series #2\n",
    "import pandas as pd\n",
    "\n",
    "# converting tuple to Series\n",
    "h = ('AA', '2012-02-01', 100, 10.2)\n",
    "s = pd.Series(h)\n",
    "\n",
    "type(s)\n",
    "print(type(s))\n",
    "print(s)"
   ]
  },
  {
   "cell_type": "code",
   "execution_count": 4,
   "metadata": {},
   "outputs": [
    {
     "name": "stdout",
     "output_type": "stream",
     "text": [
      "name             IBM\n",
      "date      2010-09-08\n",
      "shares           100\n",
      "price           10.2\n",
      "dtype: object\n"
     ]
    }
   ],
   "source": [
    "# another Series #3\n",
    "import pandas as pd\n",
    "\n",
    "# converting dictionary to Series\n",
    "d = {'name' : 'IBM', 'date' : '2010-09-08', 'shares' : 100, 'price' : 10.2}\n",
    "ds = pd.Series(d)\n",
    "\n",
    "type(ds)\n",
    "print(ds)"
   ]
  },
  {
   "cell_type": "code",
   "execution_count": 6,
   "metadata": {},
   "outputs": [
    {
     "name": "stdout",
     "output_type": "stream",
     "text": [
      "name              FB\n",
      "date      2001-08-02\n",
      "shares            90\n",
      "price            3.2\n",
      "dtype: object\n"
     ]
    },
    {
     "data": {
      "text/plain": [
       "'FB'"
      ]
     },
     "execution_count": 6,
     "metadata": {},
     "output_type": "execute_result"
    }
   ],
   "source": [
    "# another Series #4 (set name as index)\n",
    "import pandas as pd\n",
    "\n",
    "# converting dictionary to Series\n",
    "f = ['FB', '2001-08-02', 90, 3.2]\n",
    "f = pd.Series(f, index = ['name', 'date', 'shares', 'price'])\n",
    "\n",
    "print(f)\n",
    "\n",
    "f['shares'] # 90\n",
    "f[0] # FB"
   ]
  },
  {
   "cell_type": "code",
   "execution_count": 7,
   "metadata": {},
   "outputs": [
    {
     "data": {
      "text/plain": [
       "shares     90\n",
       "price     3.2\n",
       "dtype: object"
      ]
     },
     "execution_count": 7,
     "metadata": {},
     "output_type": "execute_result"
    }
   ],
   "source": [
    "f[['shares', 'price']]"
   ]
  },
  {
   "cell_type": "markdown",
   "metadata": {},
   "source": [
    "## Joining and grouping"
   ]
  },
  {
   "cell_type": "code",
   "execution_count": 35,
   "metadata": {},
   "outputs": [],
   "source": [
    "df_w_age = pd.DataFrame({\n",
    "    \"name\": [\"Tom\", \"Tyrell\", \"Claire\"],\n",
    "    \"age\": [60, 25, 33]\n",
    "})"
   ]
  },
  {
   "cell_type": "code",
   "execution_count": 36,
   "metadata": {},
   "outputs": [],
   "source": [
    "df_w_height = pd.DataFrame({\n",
    "    \"name\": [\"Tom\", \"Tyrell\", \"Claire\"],\n",
    "    \"height\": [6.2, 4.0, 5.5]\n",
    "})"
   ]
  },
  {
   "cell_type": "code",
   "execution_count": 38,
   "metadata": {},
   "outputs": [],
   "source": [
    "joined = df_w_age.set_index(\"name\").join(df_w_height.set_index(\"name\"))"
   ]
  },
  {
   "cell_type": "code",
   "execution_count": 39,
   "metadata": {},
   "outputs": [
    {
     "name": "stdout",
     "output_type": "stream",
     "text": [
      "        age  height\n",
      "name               \n",
      "Tom      60     6.2\n",
      "Tyrell   25     4.0\n",
      "Claire   33     5.5\n",
      "     name  age  height\n",
      "0     Tom   60     6.2\n",
      "1  Tyrell   25     4.0\n",
      "2  Claire   33     5.5\n"
     ]
    }
   ],
   "source": [
    "print(joined)\n",
    "print(joined.reset_index())"
   ]
  },
  {
   "cell_type": "code",
   "execution_count": 41,
   "metadata": {},
   "outputs": [
    {
     "name": "stdout",
     "output_type": "stream",
     "text": [
      "         age  height\n",
      "gender              \n",
      "F       33.0     5.5\n",
      "M       42.5     5.1\n"
     ]
    }
   ],
   "source": [
    "# another example\n",
    "df = pd.DataFrame({\n",
    "    \"name\": [\"Tom\", \"Tyrell\", \"Claire\"],\n",
    "    \"age\": [60, 25, 33],\n",
    "    \"height\": [6.2, 4.0, 5.5],\n",
    "    \"gender\": [\"M\", \"M\", \"F\"]\n",
    "})\n",
    "\n",
    "# use built-in aggregates\n",
    "print(df.groupby(\"gender\").mean())"
   ]
  },
  {
   "cell_type": "code",
   "execution_count": 42,
   "metadata": {},
   "outputs": [
    {
     "name": "stdout",
     "output_type": "stream",
     "text": [
      "0.5      age  height\n",
      "gender              \n",
      "F       33.0     5.5\n",
      "M       42.5     5.1\n"
     ]
    }
   ],
   "source": [
    "medians = df.groupby(\"gender\").quantile(0.5)\n",
    "print(medians)"
   ]
  },
  {
   "cell_type": "code",
   "execution_count": 43,
   "metadata": {},
   "outputs": [
    {
     "name": "stdout",
     "output_type": "stream",
     "text": [
      "          name  oldest  mean_height\n",
      "gender                             \n",
      "F       Claire      33          5.5\n",
      "M       Tyrell      60          5.1\n"
     ]
    }
   ],
   "source": [
    "# use a custom aggregate function\n",
    "def agg(ddf):\n",
    "    return pd.Series({\n",
    "        \"name\": max(ddf[\"name\"]),\n",
    "        \"oldest\": max(ddf[\"age\"]),\n",
    "        \"mean_height\": ddf[\"height\"].mean()\n",
    "    })\n",
    "print(df.groupby(\"gender\").apply(agg))"
   ]
  },
  {
   "cell_type": "markdown",
   "metadata": {},
   "source": [
    "# Reading files..."
   ]
  },
  {
   "cell_type": "code",
   "execution_count": 25,
   "metadata": {},
   "outputs": [
    {
     "data": {
      "text/html": [
       "<div>\n",
       "<style scoped>\n",
       "    .dataframe tbody tr th:only-of-type {\n",
       "        vertical-align: middle;\n",
       "    }\n",
       "\n",
       "    .dataframe tbody tr th {\n",
       "        vertical-align: top;\n",
       "    }\n",
       "\n",
       "    .dataframe thead th {\n",
       "        text-align: right;\n",
       "    }\n",
       "</style>\n",
       "<table border=\"1\" class=\"dataframe\">\n",
       "  <thead>\n",
       "    <tr style=\"text-align: right;\">\n",
       "      <th></th>\n",
       "      <th>title</th>\n",
       "      <th>year</th>\n",
       "      <th>name</th>\n",
       "      <th>type</th>\n",
       "      <th>character</th>\n",
       "      <th>n</th>\n",
       "    </tr>\n",
       "  </thead>\n",
       "  <tbody>\n",
       "    <tr>\n",
       "      <th>0</th>\n",
       "      <td>Closet Monster</td>\n",
       "      <td>2015</td>\n",
       "      <td>Buffy #1</td>\n",
       "      <td>actor</td>\n",
       "      <td>Buffy 4</td>\n",
       "      <td>31.0</td>\n",
       "    </tr>\n",
       "    <tr>\n",
       "      <th>1</th>\n",
       "      <td>Suuri illusioni</td>\n",
       "      <td>1985</td>\n",
       "      <td>Homo $</td>\n",
       "      <td>actor</td>\n",
       "      <td>Guests</td>\n",
       "      <td>22.0</td>\n",
       "    </tr>\n",
       "    <tr>\n",
       "      <th>2</th>\n",
       "      <td>Battle of the Sexes</td>\n",
       "      <td>2017</td>\n",
       "      <td>$hutter</td>\n",
       "      <td>actor</td>\n",
       "      <td>Bobby Riggs Fan</td>\n",
       "      <td>10.0</td>\n",
       "    </tr>\n",
       "    <tr>\n",
       "      <th>3</th>\n",
       "      <td>Secret in Their Eyes</td>\n",
       "      <td>2015</td>\n",
       "      <td>$hutter</td>\n",
       "      <td>actor</td>\n",
       "      <td>2002 Dodger Fan</td>\n",
       "      <td>NaN</td>\n",
       "    </tr>\n",
       "    <tr>\n",
       "      <th>4</th>\n",
       "      <td>Steve Jobs</td>\n",
       "      <td>2015</td>\n",
       "      <td>$hutter</td>\n",
       "      <td>actor</td>\n",
       "      <td>1988 Opera House Patron</td>\n",
       "      <td>NaN</td>\n",
       "    </tr>\n",
       "  </tbody>\n",
       "</table>\n",
       "</div>"
      ],
      "text/plain": [
       "                  title  year      name   type                character     n\n",
       "0        Closet Monster  2015  Buffy #1  actor                  Buffy 4  31.0\n",
       "1       Suuri illusioni  1985    Homo $  actor                   Guests  22.0\n",
       "2   Battle of the Sexes  2017   $hutter  actor          Bobby Riggs Fan  10.0\n",
       "3  Secret in Their Eyes  2015   $hutter  actor          2002 Dodger Fan   NaN\n",
       "4            Steve Jobs  2015   $hutter  actor  1988 Opera House Patron   NaN"
      ]
     },
     "execution_count": 25,
     "metadata": {},
     "output_type": "execute_result"
    }
   ],
   "source": [
    "import pandas as pd\n",
    "\n",
    "# {if error} titles = pd.read_csv('titles.csv', index_col=None, encoding='utf-8')\n",
    "\n",
    "casts = pd.read_csv('cast.csv', index_col=None)\n",
    "casts.head() # display 5 first elements of the DataFrame"
   ]
  },
  {
   "cell_type": "code",
   "execution_count": 24,
   "metadata": {},
   "outputs": [
    {
     "data": {
      "text/html": [
       "<div>\n",
       "<style scoped>\n",
       "    .dataframe tbody tr th:only-of-type {\n",
       "        vertical-align: middle;\n",
       "    }\n",
       "\n",
       "    .dataframe tbody tr th {\n",
       "        vertical-align: top;\n",
       "    }\n",
       "\n",
       "    .dataframe thead th {\n",
       "        text-align: right;\n",
       "    }\n",
       "</style>\n",
       "<table border=\"1\" class=\"dataframe\">\n",
       "  <thead>\n",
       "    <tr style=\"text-align: right;\">\n",
       "      <th></th>\n",
       "      <th>title</th>\n",
       "      <th>year</th>\n",
       "    </tr>\n",
       "  </thead>\n",
       "  <tbody>\n",
       "    <tr>\n",
       "      <th>49995</th>\n",
       "      <td>Rebel</td>\n",
       "      <td>1970</td>\n",
       "    </tr>\n",
       "    <tr>\n",
       "      <th>49996</th>\n",
       "      <td>Suzanne</td>\n",
       "      <td>1996</td>\n",
       "    </tr>\n",
       "    <tr>\n",
       "      <th>49997</th>\n",
       "      <td>Bomba</td>\n",
       "      <td>2013</td>\n",
       "    </tr>\n",
       "    <tr>\n",
       "      <th>49998</th>\n",
       "      <td>Aao Jao Ghar Tumhara</td>\n",
       "      <td>1984</td>\n",
       "    </tr>\n",
       "    <tr>\n",
       "      <th>49999</th>\n",
       "      <td>Mrs. Munck</td>\n",
       "      <td>1995</td>\n",
       "    </tr>\n",
       "  </tbody>\n",
       "</table>\n",
       "</div>"
      ],
      "text/plain": [
       "                      title  year\n",
       "49995                 Rebel  1970\n",
       "49996               Suzanne  1996\n",
       "49997                 Bomba  2013\n",
       "49998  Aao Jao Ghar Tumhara  1984\n",
       "49999            Mrs. Munck  1995"
      ]
     },
     "execution_count": 24,
     "metadata": {},
     "output_type": "execute_result"
    }
   ],
   "source": [
    "import pandas as pd\n",
    "\n",
    "titles = pd.read_csv('titles.csv', index_col=None)\n",
    "titles.tail() # display 5 last elements of the DataFrame"
   ]
  },
  {
   "cell_type": "code",
   "execution_count": 31,
   "metadata": {},
   "outputs": [
    {
     "name": "stdout",
     "output_type": "stream",
     "text": [
      "                         title  year\n",
      "0               The Rising Son  1990\n",
      "1      The Thousand Plane Raid  1969\n",
      "2             Crucea de piatra  1993\n",
      "3                      Country  2000\n",
      "4                   Gaiking II  2011\n",
      "...                        ...   ...\n",
      "49995                    Rebel  1970\n",
      "49996                  Suzanne  1996\n",
      "49997                    Bomba  2013\n",
      "49998     Aao Jao Ghar Tumhara  1984\n",
      "49999               Mrs. Munck  1995\n",
      "\n",
      "[50000 rows x 2 columns]\n",
      "50000\n"
     ]
    }
   ],
   "source": [
    "pd.set_option('max_rows', 10, 'max_columns', 10)\n",
    "print(titles)\n",
    "\n",
    "print(len(titles)) # total number of rows in the file"
   ]
  },
  {
   "cell_type": "code",
   "execution_count": 33,
   "metadata": {},
   "outputs": [
    {
     "data": {
      "text/html": [
       "<div>\n",
       "<style scoped>\n",
       "    .dataframe tbody tr th:only-of-type {\n",
       "        vertical-align: middle;\n",
       "    }\n",
       "\n",
       "    .dataframe tbody tr th {\n",
       "        vertical-align: top;\n",
       "    }\n",
       "\n",
       "    .dataframe thead th {\n",
       "        text-align: right;\n",
       "    }\n",
       "</style>\n",
       "<table border=\"1\" class=\"dataframe\">\n",
       "  <thead>\n",
       "    <tr style=\"text-align: right;\">\n",
       "      <th></th>\n",
       "      <th>title</th>\n",
       "      <th>year</th>\n",
       "    </tr>\n",
       "  </thead>\n",
       "  <tbody>\n",
       "    <tr>\n",
       "      <th>49993</th>\n",
       "      <td>Corruption.Gov</td>\n",
       "      <td>2010</td>\n",
       "    </tr>\n",
       "    <tr>\n",
       "      <th>49994</th>\n",
       "      <td>Lille Fridolf blir morfar</td>\n",
       "      <td>1957</td>\n",
       "    </tr>\n",
       "    <tr>\n",
       "      <th>49995</th>\n",
       "      <td>Rebel</td>\n",
       "      <td>1970</td>\n",
       "    </tr>\n",
       "    <tr>\n",
       "      <th>49996</th>\n",
       "      <td>Suzanne</td>\n",
       "      <td>1996</td>\n",
       "    </tr>\n",
       "    <tr>\n",
       "      <th>49997</th>\n",
       "      <td>Bomba</td>\n",
       "      <td>2013</td>\n",
       "    </tr>\n",
       "    <tr>\n",
       "      <th>49998</th>\n",
       "      <td>Aao Jao Ghar Tumhara</td>\n",
       "      <td>1984</td>\n",
       "    </tr>\n",
       "    <tr>\n",
       "      <th>49999</th>\n",
       "      <td>Mrs. Munck</td>\n",
       "      <td>1995</td>\n",
       "    </tr>\n",
       "  </tbody>\n",
       "</table>\n",
       "</div>"
      ],
      "text/plain": [
       "                           title  year\n",
       "49993             Corruption.Gov  2010\n",
       "49994  Lille Fridolf blir morfar  1957\n",
       "49995                      Rebel  1970\n",
       "49996                    Suzanne  1996\n",
       "49997                      Bomba  2013\n",
       "49998       Aao Jao Ghar Tumhara  1984\n",
       "49999                 Mrs. Munck  1995"
      ]
     },
     "execution_count": 33,
     "metadata": {},
     "output_type": "execute_result"
    }
   ],
   "source": [
    "# change the head and tail parameters (amount of heads and tails)\n",
    "titles.tail(7)"
   ]
  },
  {
   "cell_type": "markdown",
   "metadata": {},
   "source": [
    "## Row and column selection"
   ]
  },
  {
   "cell_type": "code",
   "execution_count": 36,
   "metadata": {},
   "outputs": [
    {
     "data": {
      "text/plain": [
       "pandas.core.series.Series"
      ]
     },
     "execution_count": 36,
     "metadata": {},
     "output_type": "execute_result"
    }
   ],
   "source": [
    "t = titles['title']\n",
    "\n",
    "type(t)"
   ]
  },
  {
   "cell_type": "code",
   "execution_count": 35,
   "metadata": {},
   "outputs": [
    {
     "data": {
      "text/plain": [
       "0             The Rising Son\n",
       "1    The Thousand Plane Raid\n",
       "2           Crucea de piatra\n",
       "3                    Country\n",
       "4                 Gaiking II\n",
       "Name: title, dtype: object"
      ]
     },
     "execution_count": 35,
     "metadata": {},
     "output_type": "execute_result"
    }
   ],
   "source": [
    "t.head()"
   ]
  },
  {
   "cell_type": "code",
   "execution_count": 38,
   "metadata": {},
   "outputs": [
    {
     "data": {
      "text/plain": [
       "title    The Rising Son\n",
       "year               1990\n",
       "Name: 0, dtype: object"
      ]
     },
     "execution_count": 38,
     "metadata": {},
     "output_type": "execute_result"
    }
   ],
   "source": [
    "titles.loc[0]"
   ]
  },
  {
   "cell_type": "markdown",
   "metadata": {},
   "source": [
    "## Filter data"
   ]
  },
  {
   "cell_type": "code",
   "execution_count": null,
   "metadata": {},
   "outputs": [],
   "source": []
  }
 ],
 "metadata": {
  "kernelspec": {
   "display_name": "Python 3",
   "language": "python",
   "name": "python3"
  },
  "language_info": {
   "codemirror_mode": {
    "name": "ipython",
    "version": 3
   },
   "file_extension": ".py",
   "mimetype": "text/x-python",
   "name": "python",
   "nbconvert_exporter": "python",
   "pygments_lexer": "ipython3",
   "version": "3.7.0"
  }
 },
 "nbformat": 4,
 "nbformat_minor": 2
}
